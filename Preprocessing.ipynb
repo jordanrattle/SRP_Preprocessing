{
 "cells": [
  {
   "cell_type": "markdown",
   "metadata": {},
   "source": [
    "# Preprocessing\n",
    "\n",
    "The following notebook provides the preprocessing steps undertaken in the project.\n",
    "\n",
    "The first step involves importing the necessary libraries; matplotlib.pyplot, numpy, pandas, LinearRegression from sklearn.linear_model and geopandas."
   ]
  },
  {
   "cell_type": "code",
   "execution_count": 46,
   "metadata": {},
   "outputs": [],
   "source": [
    "\"\"\"\n",
    "Created on Sun Jul 23 06:45:14 2023\n",
    "\n",
    "@author: Jordanius\n",
    "\"\"\"\n",
    "\n",
    "# Import the required libraries\n",
    "import matplotlib.pyplot as plt\n",
    "import numpy as np\n",
    "import pandas as pd"
   ]
  },
  {
   "cell_type": "markdown",
   "metadata": {},
   "source": [
    "### Read in the data\n",
    "Next the road traffic accident dataset will be read in as a pandas DataFrame. The dimensions of the DataFrame are then printed (89911 road traffic accidents, 17 columns). We will also examine the first part of the dataset to see what information is contained in the columns."
   ]
  },
  {
   "cell_type": "code",
   "execution_count": 47,
   "metadata": {},
   "outputs": [
    {
     "name": "stdout",
     "output_type": "stream",
     "text": [
      "(89811, 17)\n"
     ]
    },
    {
     "data": {
      "text/html": [
       "<div>\n",
       "<style scoped>\n",
       "    .dataframe tbody tr th:only-of-type {\n",
       "        vertical-align: middle;\n",
       "    }\n",
       "\n",
       "    .dataframe tbody tr th {\n",
       "        vertical-align: top;\n",
       "    }\n",
       "\n",
       "    .dataframe thead th {\n",
       "        text-align: right;\n",
       "    }\n",
       "</style>\n",
       "<table border=\"1\" class=\"dataframe\">\n",
       "  <thead>\n",
       "    <tr style=\"text-align: right;\">\n",
       "      <th></th>\n",
       "      <th>ID2</th>\n",
       "      <th>VCRN</th>\n",
       "      <th>UNIT_TYPE</th>\n",
       "      <th>DESCRIPTION</th>\n",
       "      <th>CRASH_DATE</th>\n",
       "      <th>CRASH_TIME</th>\n",
       "      <th>REPORT_DAT</th>\n",
       "      <th>SEVERITY</th>\n",
       "      <th>VISITED</th>\n",
       "      <th>SURFACE_TY</th>\n",
       "      <th>LIGHT_COND</th>\n",
       "      <th>CENTRE_LIN</th>\n",
       "      <th>SPEED_ZONE</th>\n",
       "      <th>LOCATION_D</th>\n",
       "      <th>Latitude</th>\n",
       "      <th>Longitude</th>\n",
       "      <th>Date2</th>\n",
       "    </tr>\n",
       "  </thead>\n",
       "  <tbody>\n",
       "    <tr>\n",
       "      <th>0</th>\n",
       "      <td>30000953</td>\n",
       "      <td>NaN</td>\n",
       "      <td>LV</td>\n",
       "      <td>151 - Out of control</td>\n",
       "      <td>01-JAN-2010</td>\n",
       "      <td>10:00</td>\n",
       "      <td>1/1/10</td>\n",
       "      <td>Minor</td>\n",
       "      <td>Yes</td>\n",
       "      <td>Sealed</td>\n",
       "      <td>Daylight</td>\n",
       "      <td>Single broken</td>\n",
       "      <td>080</td>\n",
       "      <td>Midland Highway, Dysart, Southern Midlands</td>\n",
       "      <td>-42.572891</td>\n",
       "      <td>147.214942</td>\n",
       "      <td>1/1/10</td>\n",
       "    </tr>\n",
       "    <tr>\n",
       "      <th>1</th>\n",
       "      <td>30011807</td>\n",
       "      <td>NaN</td>\n",
       "      <td>LV</td>\n",
       "      <td>171 - Left off carriageway into object or park...</td>\n",
       "      <td>01-JAN-2010</td>\n",
       "      <td>22:01</td>\n",
       "      <td>1/1/10</td>\n",
       "      <td>Minor</td>\n",
       "      <td>Yes</td>\n",
       "      <td>Sealed</td>\n",
       "      <td>Darkness (with street light)</td>\n",
       "      <td>Single Continuous</td>\n",
       "      <td>060</td>\n",
       "      <td>Hobart Road, Kings Meadows, Launceston</td>\n",
       "      <td>-41.461800</td>\n",
       "      <td>147.156263</td>\n",
       "      <td>1/1/10</td>\n",
       "    </tr>\n",
       "    <tr>\n",
       "      <th>2</th>\n",
       "      <td>30035158</td>\n",
       "      <td>NaN</td>\n",
       "      <td>LV; LV</td>\n",
       "      <td>144 - Parking vehicles only</td>\n",
       "      <td>01-JAN-2010</td>\n",
       "      <td>00:07</td>\n",
       "      <td>6/1/10</td>\n",
       "      <td>Property Damage Only</td>\n",
       "      <td>No</td>\n",
       "      <td>Sealed</td>\n",
       "      <td>Darkness (with street light)</td>\n",
       "      <td>Single broken</td>\n",
       "      <td>050</td>\n",
       "      <td>Off road at Bellerive, Clarence City</td>\n",
       "      <td>-42.874280</td>\n",
       "      <td>147.365210</td>\n",
       "      <td>1/1/10</td>\n",
       "    </tr>\n",
       "    <tr>\n",
       "      <th>3</th>\n",
       "      <td>30050366</td>\n",
       "      <td>NaN</td>\n",
       "      <td>LV; LV</td>\n",
       "      <td>149 - Other maneuvering</td>\n",
       "      <td>01-JAN-2010</td>\n",
       "      <td>08:45</td>\n",
       "      <td>1/1/10</td>\n",
       "      <td>Property Damage Only</td>\n",
       "      <td>No</td>\n",
       "      <td>Unsealed</td>\n",
       "      <td>Daylight</td>\n",
       "      <td>None</td>\n",
       "      <td>080</td>\n",
       "      <td>Off road at Binalong Bay, Break O'Day</td>\n",
       "      <td>-41.255945</td>\n",
       "      <td>148.316701</td>\n",
       "      <td>1/1/10</td>\n",
       "    </tr>\n",
       "    <tr>\n",
       "      <th>4</th>\n",
       "      <td>30052829</td>\n",
       "      <td>NaN</td>\n",
       "      <td>LV</td>\n",
       "      <td>180 - Off carriageway right bend</td>\n",
       "      <td>01-JAN-2010</td>\n",
       "      <td>10:50</td>\n",
       "      <td>5/1/10</td>\n",
       "      <td>Minor</td>\n",
       "      <td>Yes</td>\n",
       "      <td>Sealed</td>\n",
       "      <td>Daylight</td>\n",
       "      <td>Double continuous</td>\n",
       "      <td>100</td>\n",
       "      <td>Arthur Highway, Forcett, Sorell</td>\n",
       "      <td>-42.822408</td>\n",
       "      <td>147.679239</td>\n",
       "      <td>1/1/10</td>\n",
       "    </tr>\n",
       "  </tbody>\n",
       "</table>\n",
       "</div>"
      ],
      "text/plain": [
       "        ID2  VCRN UNIT_TYPE  ...   Latitude   Longitude   Date2\n",
       "0  30000953   NaN        LV  ... -42.572891  147.214942  1/1/10\n",
       "1  30011807   NaN        LV  ... -41.461800  147.156263  1/1/10\n",
       "2  30035158   NaN    LV; LV  ... -42.874280  147.365210  1/1/10\n",
       "3  30050366   NaN    LV; LV  ... -41.255945  148.316701  1/1/10\n",
       "4  30052829   NaN        LV  ... -42.822408  147.679239  1/1/10\n",
       "\n",
       "[5 rows x 17 columns]"
      ]
     },
     "execution_count": 47,
     "metadata": {},
     "output_type": "execute_result"
    }
   ],
   "source": [
    "# Read in Tasmanian Traffic Accident Dataset as pandas dataframe\n",
    "crashes = pd.read_csv(r\"C:\\Users\\jjrattle\\Downloads\\ArcGIS Pro Analysis 13092023\\Preprocessing\\Preprocessing\\Crashes_2010-2023_July2023.csv\")\n",
    "print(crashes.shape)\n",
    "\n",
    "# Examine a portion of the data\n",
    "crashes.head()"
   ]
  },
  {
   "cell_type": "markdown",
   "metadata": {},
   "source": [
    "### Handling null values\n",
    "The DataFrame will be checked to see if null values exist, and how many, in the columns of the DataFrame."
   ]
  },
  {
   "cell_type": "code",
   "execution_count": 48,
   "metadata": {},
   "outputs": [
    {
     "data": {
      "text/plain": [
       "ID2                0\n",
       "VCRN           20754\n",
       "UNIT_TYPE         23\n",
       "DESCRIPTION        0\n",
       "CRASH_DATE         0\n",
       "CRASH_TIME         0\n",
       "REPORT_DAT         0\n",
       "SEVERITY           0\n",
       "VISITED            0\n",
       "SURFACE_TY         0\n",
       "LIGHT_COND         3\n",
       "CENTRE_LIN         0\n",
       "SPEED_ZONE         0\n",
       "LOCATION_D       197\n",
       "Latitude           0\n",
       "Longitude          0\n",
       "Date2              0\n",
       "dtype: int64"
      ]
     },
     "execution_count": 48,
     "metadata": {},
     "output_type": "execute_result"
    }
   ],
   "source": [
    "# Check for null values in the columns of the DataFrame\n",
    "crashes.isnull().sum()"
   ]
  },
  {
   "cell_type": "markdown",
   "metadata": {},
   "source": [
    "VCRN, LOCATION_D, UNIT_TYPE and LIGHT_COND all contain null values.\n",
    "VCRN, Vehicle Crash Registration Number, is not relevant in this study.\n",
    "Also, REPORT_DAT does not provide additional information to the dataset as there is already CRASH_DATE and CRASH_TIME.\n",
    "Both VCRN and REPORT_DAT will be removed from the DataFrame."
   ]
  },
  {
   "cell_type": "code",
   "execution_count": 49,
   "metadata": {},
   "outputs": [
    {
     "name": "stdout",
     "output_type": "stream",
     "text": [
      "ID2              0\n",
      "UNIT_TYPE       23\n",
      "DESCRIPTION      0\n",
      "CRASH_DATE       0\n",
      "CRASH_TIME       0\n",
      "SEVERITY         0\n",
      "VISITED          0\n",
      "SURFACE_TY       0\n",
      "LIGHT_COND       3\n",
      "CENTRE_LIN       0\n",
      "SPEED_ZONE       0\n",
      "LOCATION_D     197\n",
      "Latitude         0\n",
      "Longitude        0\n",
      "Date2            0\n",
      "dtype: int64\n"
     ]
    }
   ],
   "source": [
    "# Drop unused columns of Vehicle Customer Reference Number & the date the accident was reported\n",
    "crashes = crashes.drop(columns = ['VCRN', 'REPORT_DAT'])\n",
    "\n",
    "# check to see if there are any null values\n",
    "print(crashes.isnull().sum())"
   ]
  },
  {
   "cell_type": "markdown",
   "metadata": {},
   "source": [
    "There are still null values present in the DataFrame. \n",
    "Let's check a portion of the dataset where LOCATION_D has null values: "
   ]
  },
  {
   "cell_type": "code",
   "execution_count": 50,
   "metadata": {},
   "outputs": [
    {
     "data": {
      "text/html": [
       "<div>\n",
       "<style scoped>\n",
       "    .dataframe tbody tr th:only-of-type {\n",
       "        vertical-align: middle;\n",
       "    }\n",
       "\n",
       "    .dataframe tbody tr th {\n",
       "        vertical-align: top;\n",
       "    }\n",
       "\n",
       "    .dataframe thead th {\n",
       "        text-align: right;\n",
       "    }\n",
       "</style>\n",
       "<table border=\"1\" class=\"dataframe\">\n",
       "  <thead>\n",
       "    <tr style=\"text-align: right;\">\n",
       "      <th></th>\n",
       "      <th>ID2</th>\n",
       "      <th>UNIT_TYPE</th>\n",
       "      <th>DESCRIPTION</th>\n",
       "      <th>CRASH_DATE</th>\n",
       "      <th>CRASH_TIME</th>\n",
       "      <th>SEVERITY</th>\n",
       "      <th>VISITED</th>\n",
       "      <th>SURFACE_TY</th>\n",
       "      <th>LIGHT_COND</th>\n",
       "      <th>CENTRE_LIN</th>\n",
       "      <th>SPEED_ZONE</th>\n",
       "      <th>LOCATION_D</th>\n",
       "      <th>Latitude</th>\n",
       "      <th>Longitude</th>\n",
       "      <th>Date2</th>\n",
       "    </tr>\n",
       "  </thead>\n",
       "  <tbody>\n",
       "    <tr>\n",
       "      <th>24991</th>\n",
       "      <td>165789</td>\n",
       "      <td>LV; HV</td>\n",
       "      <td>130 - Vehicles in same lane/ rear end</td>\n",
       "      <td>05-DEC-2013</td>\n",
       "      <td>15:45</td>\n",
       "      <td>Property Damage Only</td>\n",
       "      <td>No</td>\n",
       "      <td>Sealed</td>\n",
       "      <td>Daylight</td>\n",
       "      <td>Double broken</td>\n",
       "      <td>Not known</td>\n",
       "      <td>NaN</td>\n",
       "      <td>0.0</td>\n",
       "      <td>0.0</td>\n",
       "      <td>5/12/13</td>\n",
       "    </tr>\n",
       "    <tr>\n",
       "      <th>25617</th>\n",
       "      <td>191908</td>\n",
       "      <td>LV; LV</td>\n",
       "      <td>131 - Vehicles in same lane/ left rear</td>\n",
       "      <td>10-JAN-2014</td>\n",
       "      <td>14:00</td>\n",
       "      <td>Property Damage Only</td>\n",
       "      <td>No</td>\n",
       "      <td>Sealed</td>\n",
       "      <td>Daylight</td>\n",
       "      <td>None</td>\n",
       "      <td>Not stated</td>\n",
       "      <td>NaN</td>\n",
       "      <td>0.0</td>\n",
       "      <td>0.0</td>\n",
       "      <td>10/1/14</td>\n",
       "    </tr>\n",
       "    <tr>\n",
       "      <th>25699</th>\n",
       "      <td>194829</td>\n",
       "      <td>LV; LV</td>\n",
       "      <td>149 - Other maneuvering</td>\n",
       "      <td>14-JAN-2014</td>\n",
       "      <td>18:00</td>\n",
       "      <td>Property Damage Only</td>\n",
       "      <td>No</td>\n",
       "      <td>Sealed</td>\n",
       "      <td>Daylight</td>\n",
       "      <td>None</td>\n",
       "      <td>&lt;40</td>\n",
       "      <td>NaN</td>\n",
       "      <td>0.0</td>\n",
       "      <td>0.0</td>\n",
       "      <td>14/1/14</td>\n",
       "    </tr>\n",
       "    <tr>\n",
       "      <th>26050</th>\n",
       "      <td>209000</td>\n",
       "      <td>LV; LV</td>\n",
       "      <td>149 - Other maneuvering</td>\n",
       "      <td>03-FEB-2014</td>\n",
       "      <td>16:57</td>\n",
       "      <td>Property Damage Only</td>\n",
       "      <td>No</td>\n",
       "      <td>Not known</td>\n",
       "      <td>Not known</td>\n",
       "      <td>Not known</td>\n",
       "      <td>Not known</td>\n",
       "      <td>NaN</td>\n",
       "      <td>0.0</td>\n",
       "      <td>0.0</td>\n",
       "      <td>3/2/14</td>\n",
       "    </tr>\n",
       "    <tr>\n",
       "      <th>26368</th>\n",
       "      <td>220852</td>\n",
       "      <td>LV; LV</td>\n",
       "      <td>147 - Emerging from driveway or lane</td>\n",
       "      <td>20-FEB-2014</td>\n",
       "      <td>15:40</td>\n",
       "      <td>Property Damage Only</td>\n",
       "      <td>No</td>\n",
       "      <td>Sealed</td>\n",
       "      <td>Daylight</td>\n",
       "      <td>Single broken</td>\n",
       "      <td>050</td>\n",
       "      <td>NaN</td>\n",
       "      <td>0.0</td>\n",
       "      <td>0.0</td>\n",
       "      <td>20/2/14</td>\n",
       "    </tr>\n",
       "  </tbody>\n",
       "</table>\n",
       "</div>"
      ],
      "text/plain": [
       "          ID2 UNIT_TYPE  ... Longitude    Date2\n",
       "24991  165789    LV; HV  ...       0.0  5/12/13\n",
       "25617  191908    LV; LV  ...       0.0  10/1/14\n",
       "25699  194829    LV; LV  ...       0.0  14/1/14\n",
       "26050  209000    LV; LV  ...       0.0   3/2/14\n",
       "26368  220852    LV; LV  ...       0.0  20/2/14\n",
       "\n",
       "[5 rows x 15 columns]"
      ]
     },
     "execution_count": 50,
     "metadata": {},
     "output_type": "execute_result"
    }
   ],
   "source": [
    "# \n",
    "crashes[crashes['LOCATION_D'].isnull()].head()"
   ]
  },
  {
   "cell_type": "markdown",
   "metadata": {},
   "source": [
    "As we can see, the Latitude and Longitude values are equal to 0 for these values. This most likely means that there was no, or an insufficient, location description provided for these road traffic accidents in the traffic accident report.\n",
    "\n",
    "Let's see how many values of Latitude or Longitude = 0:"
   ]
  },
  {
   "cell_type": "code",
   "execution_count": 51,
   "metadata": {},
   "outputs": [
    {
     "name": "stdout",
     "output_type": "stream",
     "text": [
      "ID2            1149\n",
      "UNIT_TYPE      1145\n",
      "DESCRIPTION    1149\n",
      "CRASH_DATE     1149\n",
      "CRASH_TIME     1149\n",
      "SEVERITY       1149\n",
      "VISITED        1149\n",
      "SURFACE_TY     1149\n",
      "LIGHT_COND     1149\n",
      "CENTRE_LIN     1149\n",
      "SPEED_ZONE     1149\n",
      "LOCATION_D      952\n",
      "Latitude       1149\n",
      "Longitude      1149\n",
      "Date2          1149\n",
      "dtype: int64\n"
     ]
    }
   ],
   "source": [
    "# Print the number of rows for each column where latitude or longitude equals zero\n",
    "print(crashes.query('Latitude == 0 | Longitude == 0').count())"
   ]
  },
  {
   "cell_type": "markdown",
   "metadata": {},
   "source": [
    "There seems to be 1149 records without correct coordinate information (except for some of the columns with null values).\n",
    "\n",
    "It may be possible to determine the rough location of these traffic accidents from the location description 'LOCATION_D'.\n",
    "\n",
    "Let's see how what values are given for LOCATION_D when Latitude = 0:"
   ]
  },
  {
   "cell_type": "code",
   "execution_count": 52,
   "metadata": {},
   "outputs": [
    {
     "data": {
      "text/plain": [
       "23708    Not Available\n",
       "24935    Not Available\n",
       "24991              NaN\n",
       "25074    Not Available\n",
       "25181    Not Available\n",
       "Name: LOCATION_D, dtype: object"
      ]
     },
     "execution_count": 52,
     "metadata": {},
     "output_type": "execute_result"
    }
   ],
   "source": [
    "crashes[crashes['Latitude'] == 0]['LOCATION_D'].head()"
   ]
  },
  {
   "cell_type": "markdown",
   "metadata": {},
   "source": [
    "It seems to be either 'Not Available' or null values. Let's count how many values:"
   ]
  },
  {
   "cell_type": "code",
   "execution_count": 53,
   "metadata": {},
   "outputs": [
    {
     "data": {
      "text/plain": [
       "Not available    945\n",
       "Not Available      7\n",
       "Name: LOCATION_D, dtype: int64"
      ]
     },
     "execution_count": 53,
     "metadata": {},
     "output_type": "execute_result"
    }
   ],
   "source": [
    "crashes[crashes['Latitude'] == 0]['LOCATION_D'].value_counts()"
   ]
  },
  {
   "cell_type": "markdown",
   "metadata": {},
   "source": [
    "The values are either 'Not Available' (945) or 'Not available' (7), which equal to 952 as was seen above.\n",
    "\n",
    "There does not seem to be any helpful information contained within this subset.\n",
    "\n",
    "Let's check the traffic accident severity column 'SEVERITY':"
   ]
  },
  {
   "cell_type": "code",
   "execution_count": 54,
   "metadata": {},
   "outputs": [
    {
     "data": {
      "text/plain": [
       "Property Damage Only    1143\n",
       "Not known                  3\n",
       "Minor                      2\n",
       "Serious                    1\n",
       "Name: SEVERITY, dtype: int64"
      ]
     },
     "execution_count": 54,
     "metadata": {},
     "output_type": "execute_result"
    }
   ],
   "source": [
    "crashes[crashes['Latitude'] == 0]['SEVERITY'].value_counts()"
   ]
  },
  {
   "cell_type": "markdown",
   "metadata": {},
   "source": [
    "The traffic accidents are mostly Property Damage Only incidents, with only two minor incidents and one serious incident.\n",
    "\n",
    "Although some information will be lost, this information will not be vital to the study. Additionally, these records should be removed as they do not have any spatial information for the spatial analysis.\n",
    "\n",
    "So we will remove the records where Latitude and Longitude = 0\n"
   ]
  },
  {
   "cell_type": "code",
   "execution_count": 55,
   "metadata": {},
   "outputs": [],
   "source": [
    "# Drop traffic accidents where the latitude equals zero\n",
    "crashes = crashes.drop(crashes[crashes['Latitude'] == 0].index)"
   ]
  },
  {
   "cell_type": "markdown",
   "metadata": {},
   "source": [
    "Now that the DataFrame has been updated, let's check the null values again:"
   ]
  },
  {
   "cell_type": "code",
   "execution_count": 56,
   "metadata": {},
   "outputs": [
    {
     "name": "stdout",
     "output_type": "stream",
     "text": [
      "ID2             0\n",
      "UNIT_TYPE      19\n",
      "DESCRIPTION     0\n",
      "CRASH_DATE      0\n",
      "CRASH_TIME      0\n",
      "SEVERITY        0\n",
      "VISITED         0\n",
      "SURFACE_TY      0\n",
      "LIGHT_COND      3\n",
      "CENTRE_LIN      0\n",
      "SPEED_ZONE      0\n",
      "LOCATION_D      0\n",
      "Latitude        0\n",
      "Longitude       0\n",
      "Date2           0\n",
      "dtype: int64\n"
     ]
    }
   ],
   "source": [
    "# check to see if there are any null values\n",
    "print(crashes.isnull().sum())"
   ]
  },
  {
   "cell_type": "markdown",
   "metadata": {},
   "source": [
    "Now let's check the first ten records where 'UNIT_TYPE' is null:"
   ]
  },
  {
   "cell_type": "code",
   "execution_count": 57,
   "metadata": {},
   "outputs": [
    {
     "data": {
      "text/html": [
       "<div>\n",
       "<style scoped>\n",
       "    .dataframe tbody tr th:only-of-type {\n",
       "        vertical-align: middle;\n",
       "    }\n",
       "\n",
       "    .dataframe tbody tr th {\n",
       "        vertical-align: top;\n",
       "    }\n",
       "\n",
       "    .dataframe thead th {\n",
       "        text-align: right;\n",
       "    }\n",
       "</style>\n",
       "<table border=\"1\" class=\"dataframe\">\n",
       "  <thead>\n",
       "    <tr style=\"text-align: right;\">\n",
       "      <th></th>\n",
       "      <th>ID2</th>\n",
       "      <th>UNIT_TYPE</th>\n",
       "      <th>DESCRIPTION</th>\n",
       "      <th>CRASH_DATE</th>\n",
       "      <th>CRASH_TIME</th>\n",
       "      <th>SEVERITY</th>\n",
       "      <th>VISITED</th>\n",
       "      <th>SURFACE_TY</th>\n",
       "      <th>LIGHT_COND</th>\n",
       "      <th>CENTRE_LIN</th>\n",
       "      <th>SPEED_ZONE</th>\n",
       "      <th>LOCATION_D</th>\n",
       "      <th>Latitude</th>\n",
       "      <th>Longitude</th>\n",
       "      <th>Date2</th>\n",
       "    </tr>\n",
       "  </thead>\n",
       "  <tbody>\n",
       "    <tr>\n",
       "      <th>80465</th>\n",
       "      <td>51639023</td>\n",
       "      <td>NaN</td>\n",
       "      <td>-</td>\n",
       "      <td>04-APR-2022</td>\n",
       "      <td>08:00</td>\n",
       "      <td>Property Damage Only</td>\n",
       "      <td>No</td>\n",
       "      <td>Sealed</td>\n",
       "      <td>Daylight</td>\n",
       "      <td>Single broken</td>\n",
       "      <td>100</td>\n",
       "      <td>Bass Highway, Hellyer, Circular Head</td>\n",
       "      <td>-40.869924</td>\n",
       "      <td>145.433391</td>\n",
       "      <td>4/4/22</td>\n",
       "    </tr>\n",
       "    <tr>\n",
       "      <th>81284</th>\n",
       "      <td>51956421</td>\n",
       "      <td>NaN</td>\n",
       "      <td>160 - Parked</td>\n",
       "      <td>14-MAY-2022</td>\n",
       "      <td>22:25</td>\n",
       "      <td>Not known</td>\n",
       "      <td>Yes</td>\n",
       "      <td>Sealed</td>\n",
       "      <td>Darkness (with street light)</td>\n",
       "      <td>Single broken</td>\n",
       "      <td>040</td>\n",
       "      <td>Elizabeth Street, North Hobart, Hobart</td>\n",
       "      <td>-42.873392</td>\n",
       "      <td>147.315668</td>\n",
       "      <td>14/5/22</td>\n",
       "    </tr>\n",
       "    <tr>\n",
       "      <th>81285</th>\n",
       "      <td>51956428</td>\n",
       "      <td>NaN</td>\n",
       "      <td>160 - Parked</td>\n",
       "      <td>14-MAY-2022</td>\n",
       "      <td>22:25</td>\n",
       "      <td>Not known</td>\n",
       "      <td>Yes</td>\n",
       "      <td>Sealed</td>\n",
       "      <td>Darkness (with street light)</td>\n",
       "      <td>Single broken</td>\n",
       "      <td>040</td>\n",
       "      <td>Elizabeth Street, North Hobart, Hobart</td>\n",
       "      <td>-42.873392</td>\n",
       "      <td>147.315668</td>\n",
       "      <td>14/5/22</td>\n",
       "    </tr>\n",
       "    <tr>\n",
       "      <th>84572</th>\n",
       "      <td>51804671</td>\n",
       "      <td>NaN</td>\n",
       "      <td>-</td>\n",
       "      <td>29-OCT-2022</td>\n",
       "      <td>18:30</td>\n",
       "      <td>Property Damage Only</td>\n",
       "      <td>No</td>\n",
       "      <td>Sealed</td>\n",
       "      <td>Daylight</td>\n",
       "      <td>Not known</td>\n",
       "      <td>100</td>\n",
       "      <td>Lyell Highway, Tarraleah, Central Highlands</td>\n",
       "      <td>-42.299034</td>\n",
       "      <td>146.458736</td>\n",
       "      <td>29/10/22</td>\n",
       "    </tr>\n",
       "    <tr>\n",
       "      <th>84937</th>\n",
       "      <td>51812507</td>\n",
       "      <td>NaN</td>\n",
       "      <td>-</td>\n",
       "      <td>15-NOV-2022</td>\n",
       "      <td>14:30</td>\n",
       "      <td>Property Damage Only</td>\n",
       "      <td>Yes</td>\n",
       "      <td>Sealed</td>\n",
       "      <td>Daylight</td>\n",
       "      <td>None</td>\n",
       "      <td>050</td>\n",
       "      <td>, New Town, Hobart</td>\n",
       "      <td>-42.864431</td>\n",
       "      <td>147.315802</td>\n",
       "      <td>15/11/22</td>\n",
       "    </tr>\n",
       "    <tr>\n",
       "      <th>85005</th>\n",
       "      <td>51814225</td>\n",
       "      <td>NaN</td>\n",
       "      <td>-</td>\n",
       "      <td>18-NOV-2022</td>\n",
       "      <td>16:15</td>\n",
       "      <td>Property Damage Only</td>\n",
       "      <td>Yes</td>\n",
       "      <td>Sealed</td>\n",
       "      <td>Daylight</td>\n",
       "      <td>None</td>\n",
       "      <td>100</td>\n",
       "      <td>Exton Road, Exton, Meander Valley</td>\n",
       "      <td>-41.539372</td>\n",
       "      <td>146.731009</td>\n",
       "      <td>18/11/22</td>\n",
       "    </tr>\n",
       "    <tr>\n",
       "      <th>85592</th>\n",
       "      <td>51838877</td>\n",
       "      <td>NaN</td>\n",
       "      <td>-</td>\n",
       "      <td>14-DEC-2022</td>\n",
       "      <td>23:25</td>\n",
       "      <td>Property Damage Only</td>\n",
       "      <td>Yes</td>\n",
       "      <td>Sealed</td>\n",
       "      <td>Darkness (with street light)</td>\n",
       "      <td>None</td>\n",
       "      <td>050</td>\n",
       "      <td>null, Midway Point, Sorell</td>\n",
       "      <td>-42.796538</td>\n",
       "      <td>147.530818</td>\n",
       "      <td>14/12/22</td>\n",
       "    </tr>\n",
       "    <tr>\n",
       "      <th>86193</th>\n",
       "      <td>51874732</td>\n",
       "      <td>NaN</td>\n",
       "      <td>-</td>\n",
       "      <td>15-JAN-2023</td>\n",
       "      <td>11:30</td>\n",
       "      <td>Property Damage Only</td>\n",
       "      <td>No</td>\n",
       "      <td>Sealed</td>\n",
       "      <td>Daylight</td>\n",
       "      <td>Single broken</td>\n",
       "      <td>060</td>\n",
       "      <td>Main Road, Binalong Bay, Break O'Day</td>\n",
       "      <td>-41.251463</td>\n",
       "      <td>148.307321</td>\n",
       "      <td>15/1/23</td>\n",
       "    </tr>\n",
       "    <tr>\n",
       "      <th>86498</th>\n",
       "      <td>51885394</td>\n",
       "      <td>NaN</td>\n",
       "      <td>-</td>\n",
       "      <td>31-JAN-2023</td>\n",
       "      <td>11:45</td>\n",
       "      <td>Property Damage Only</td>\n",
       "      <td>No</td>\n",
       "      <td>Sealed</td>\n",
       "      <td>Daylight</td>\n",
       "      <td>None</td>\n",
       "      <td>050</td>\n",
       "      <td>Howick StreetMulgrave Street, West Launceston,...</td>\n",
       "      <td>-41.447208</td>\n",
       "      <td>147.144967</td>\n",
       "      <td>31/1/23</td>\n",
       "    </tr>\n",
       "    <tr>\n",
       "      <th>86845</th>\n",
       "      <td>51900321</td>\n",
       "      <td>NaN</td>\n",
       "      <td>-</td>\n",
       "      <td>16-FEB-2023</td>\n",
       "      <td>10:18</td>\n",
       "      <td>Property Damage Only</td>\n",
       "      <td>Yes</td>\n",
       "      <td>Sealed</td>\n",
       "      <td>Daylight</td>\n",
       "      <td>None</td>\n",
       "      <td>050</td>\n",
       "      <td>, Riverside, West Tamar</td>\n",
       "      <td>-41.421789</td>\n",
       "      <td>147.103371</td>\n",
       "      <td>16/2/23</td>\n",
       "    </tr>\n",
       "  </tbody>\n",
       "</table>\n",
       "</div>"
      ],
      "text/plain": [
       "            ID2 UNIT_TYPE   DESCRIPTION  ...   Latitude   Longitude     Date2\n",
       "80465  51639023       NaN             -  ... -40.869924  145.433391    4/4/22\n",
       "81284  51956421       NaN  160 - Parked  ... -42.873392  147.315668   14/5/22\n",
       "81285  51956428       NaN  160 - Parked  ... -42.873392  147.315668   14/5/22\n",
       "84572  51804671       NaN             -  ... -42.299034  146.458736  29/10/22\n",
       "84937  51812507       NaN             -  ... -42.864431  147.315802  15/11/22\n",
       "85005  51814225       NaN             -  ... -41.539372  146.731009  18/11/22\n",
       "85592  51838877       NaN             -  ... -42.796538  147.530818  14/12/22\n",
       "86193  51874732       NaN             -  ... -41.251463  148.307321   15/1/23\n",
       "86498  51885394       NaN             -  ... -41.447208  147.144967   31/1/23\n",
       "86845  51900321       NaN             -  ... -41.421789  147.103371   16/2/23\n",
       "\n",
       "[10 rows x 15 columns]"
      ]
     },
     "execution_count": 57,
     "metadata": {},
     "output_type": "execute_result"
    }
   ],
   "source": [
    "crashes[crashes['UNIT_TYPE'].isnull()].head(10)"
   ]
  },
  {
   "cell_type": "markdown",
   "metadata": {},
   "source": [
    "These incidents are fairly recent and so may affect the spatiotemporal analysis if they are removed. So it maye be best to keep them.\n",
    "\n",
    "The null values will be handled by using the pandas .fillna() function, which will be used to replace the null values with the string 'Unknown'."
   ]
  },
  {
   "cell_type": "code",
   "execution_count": 59,
   "metadata": {},
   "outputs": [
    {
     "data": {
      "text/plain": [
       "ID2            0\n",
       "UNIT_TYPE      0\n",
       "DESCRIPTION    0\n",
       "CRASH_DATE     0\n",
       "CRASH_TIME     0\n",
       "SEVERITY       0\n",
       "VISITED        0\n",
       "SURFACE_TY     0\n",
       "LIGHT_COND     3\n",
       "CENTRE_LIN     0\n",
       "SPEED_ZONE     0\n",
       "LOCATION_D     0\n",
       "Latitude       0\n",
       "Longitude      0\n",
       "Date2          0\n",
       "dtype: int64"
      ]
     },
     "execution_count": 59,
     "metadata": {},
     "output_type": "execute_result"
    }
   ],
   "source": [
    "crashes['UNIT_TYPE'] = crashes['UNIT_TYPE'].fillna(value = 'Unknown')\n",
    "# check to see if there are any null values\n",
    "crashes.isnull().sum()"
   ]
  },
  {
   "cell_type": "markdown",
   "metadata": {},
   "source": [
    "We still have null values in the light conditions column 'LIGHT_COND'.\n",
    "Let's examine the three records:"
   ]
  },
  {
   "cell_type": "code",
   "execution_count": 60,
   "metadata": {},
   "outputs": [
    {
     "data": {
      "text/html": [
       "<div>\n",
       "<style scoped>\n",
       "    .dataframe tbody tr th:only-of-type {\n",
       "        vertical-align: middle;\n",
       "    }\n",
       "\n",
       "    .dataframe tbody tr th {\n",
       "        vertical-align: top;\n",
       "    }\n",
       "\n",
       "    .dataframe thead th {\n",
       "        text-align: right;\n",
       "    }\n",
       "</style>\n",
       "<table border=\"1\" class=\"dataframe\">\n",
       "  <thead>\n",
       "    <tr style=\"text-align: right;\">\n",
       "      <th></th>\n",
       "      <th>ID2</th>\n",
       "      <th>UNIT_TYPE</th>\n",
       "      <th>DESCRIPTION</th>\n",
       "      <th>CRASH_DATE</th>\n",
       "      <th>CRASH_TIME</th>\n",
       "      <th>SEVERITY</th>\n",
       "      <th>VISITED</th>\n",
       "      <th>SURFACE_TY</th>\n",
       "      <th>LIGHT_COND</th>\n",
       "      <th>CENTRE_LIN</th>\n",
       "      <th>SPEED_ZONE</th>\n",
       "      <th>LOCATION_D</th>\n",
       "      <th>Latitude</th>\n",
       "      <th>Longitude</th>\n",
       "      <th>Date2</th>\n",
       "    </tr>\n",
       "  </thead>\n",
       "  <tbody>\n",
       "    <tr>\n",
       "      <th>5993</th>\n",
       "      <td>30085311</td>\n",
       "      <td>LV</td>\n",
       "      <td>179 - Other straight</td>\n",
       "      <td>13-NOV-2010</td>\n",
       "      <td>01:09</td>\n",
       "      <td>Property Damage Only</td>\n",
       "      <td>Yes</td>\n",
       "      <td>Sealed</td>\n",
       "      <td>NaN</td>\n",
       "      <td>None</td>\n",
       "      <td>050</td>\n",
       "      <td>Church Street, Launceston, Launceston</td>\n",
       "      <td>-41.448678</td>\n",
       "      <td>147.136220</td>\n",
       "      <td>13/11/10</td>\n",
       "    </tr>\n",
       "    <tr>\n",
       "      <th>9594</th>\n",
       "      <td>30124598</td>\n",
       "      <td>LV; LV</td>\n",
       "      <td>121 - Right through</td>\n",
       "      <td>21-MAY-2011</td>\n",
       "      <td>18:05</td>\n",
       "      <td>Property Damage Only</td>\n",
       "      <td>No</td>\n",
       "      <td>Sealed</td>\n",
       "      <td>NaN</td>\n",
       "      <td>Single broken</td>\n",
       "      <td>050</td>\n",
       "      <td>Intersection of King Street and Sandy Bay Road...</td>\n",
       "      <td>-42.894722</td>\n",
       "      <td>147.326638</td>\n",
       "      <td>21/5/11</td>\n",
       "    </tr>\n",
       "    <tr>\n",
       "      <th>16082</th>\n",
       "      <td>30148365</td>\n",
       "      <td>LV; LV</td>\n",
       "      <td>110 - Cross traffic</td>\n",
       "      <td>14-JUN-2012</td>\n",
       "      <td>19:18</td>\n",
       "      <td>Property Damage Only</td>\n",
       "      <td>Yes</td>\n",
       "      <td>Sealed</td>\n",
       "      <td>NaN</td>\n",
       "      <td>Single Continuous</td>\n",
       "      <td>050</td>\n",
       "      <td>Intersection of Frederick Street and Margaret ...</td>\n",
       "      <td>-41.443419</td>\n",
       "      <td>147.135169</td>\n",
       "      <td>14/6/12</td>\n",
       "    </tr>\n",
       "  </tbody>\n",
       "</table>\n",
       "</div>"
      ],
      "text/plain": [
       "            ID2 UNIT_TYPE  ...   Longitude     Date2\n",
       "5993   30085311        LV  ...  147.136220  13/11/10\n",
       "9594   30124598    LV; LV  ...  147.326638   21/5/11\n",
       "16082  30148365    LV; LV  ...  147.135169   14/6/12\n",
       "\n",
       "[3 rows x 15 columns]"
      ]
     },
     "execution_count": 60,
     "metadata": {},
     "output_type": "execute_result"
    }
   ],
   "source": [
    "crashes[crashes['LIGHT_COND'].isnull()]"
   ]
  },
  {
   "cell_type": "markdown",
   "metadata": {},
   "source": [
    "This information could prove useful in the analysis and so will be kept. The null values will be filled in that same way as 'UNIT_TYPE':"
   ]
  },
  {
   "cell_type": "code",
   "execution_count": 61,
   "metadata": {},
   "outputs": [
    {
     "data": {
      "text/plain": [
       "ID2            0\n",
       "UNIT_TYPE      0\n",
       "DESCRIPTION    0\n",
       "CRASH_DATE     0\n",
       "CRASH_TIME     0\n",
       "SEVERITY       0\n",
       "VISITED        0\n",
       "SURFACE_TY     0\n",
       "LIGHT_COND     0\n",
       "CENTRE_LIN     0\n",
       "SPEED_ZONE     0\n",
       "LOCATION_D     0\n",
       "Latitude       0\n",
       "Longitude      0\n",
       "Date2          0\n",
       "dtype: int64"
      ]
     },
     "execution_count": 61,
     "metadata": {},
     "output_type": "execute_result"
    }
   ],
   "source": [
    "crashes['LIGHT_COND'] = crashes['LIGHT_COND'].fillna(value = 'Unknown')\n",
    "# check to see if there are any null values\n",
    "crashes.isnull().sum()"
   ]
  },
  {
   "cell_type": "markdown",
   "metadata": {},
   "source": [
    "Now there are no null values remaining in the DataFrame."
   ]
  },
  {
   "cell_type": "markdown",
   "metadata": {},
   "source": [
    "### Classifying Severity Values\n",
    "Since this study will focus on traffic accident severity, it is important that the severity values are converted into the necessary format for the Hot Spot Analysis and Emerging Hot Spot Analysis tools, which both require numeric values as opposed to categorical.\n",
    "\n",
    "The following code will create a new column called 'Severity Rank':"
   ]
  },
  {
   "cell_type": "code",
   "execution_count": 68,
   "metadata": {},
   "outputs": [],
   "source": [
    "# Set up conditions for creating a new severity column\n",
    "sev_con = [(crashes['SEVERITY'] == 'Fatal'), (crashes['SEVERITY'] == 'Serious'),\n",
    "(crashes['SEVERITY'] == 'First Aid'), (crashes['SEVERITY'] == 'Minor'),\n",
    "(crashes['SEVERITY'] == 'Property Damage Only'),(crashes['SEVERITY'] == 'Not known')]\n",
    "\n",
    "# Define a list of severity values to match the conditions to\n",
    "sev_cat = [5, 4, 3, 2, 1, 0]\n",
    "\n",
    "# Creates a new column with numerical severity values\n",
    "crashes['Severity Rank'] = np.select(sev_con, sev_cat)"
   ]
  },
  {
   "cell_type": "markdown",
   "metadata": {},
   "source": [
    "Let's have a look at the sum of different severity values:"
   ]
  },
  {
   "cell_type": "code",
   "execution_count": 69,
   "metadata": {},
   "outputs": [
    {
     "data": {
      "text/plain": [
       "Property Damage Only    62037\n",
       "Minor                   14196\n",
       "First Aid                6122\n",
       "Serious                  3133\n",
       "Not known                2748\n",
       "Fatal                     426\n",
       "Name: SEVERITY, dtype: int64"
      ]
     },
     "execution_count": 69,
     "metadata": {},
     "output_type": "execute_result"
    }
   ],
   "source": [
    "crashes['SEVERITY'].value_counts()"
   ]
  },
  {
   "cell_type": "markdown",
   "metadata": {},
   "source": [
    "'Not known' values are not useful for this study. \n",
    "With 2748 records having 'Not known' values, let's check what proportion of the data this is:"
   ]
  },
  {
   "cell_type": "code",
   "execution_count": 74,
   "metadata": {},
   "outputs": [
    {
     "name": "stdout",
     "output_type": "stream",
     "text": [
      "Approximately 3.1% of the data will be removed if \"Not known\" values are removed.\n"
     ]
    }
   ],
   "source": [
    "prop = crashes['SEVERITY'].value_counts()['Not known'] / crashes['SEVERITY'].count() * 100\n",
    "\n",
    "print(f'Approximately {round(prop, 2)}% of the data will be removed if \"Not known\" values are removed.')"
   ]
  },
  {
   "cell_type": "markdown",
   "metadata": {},
   "source": [
    "Information is important, however, relevant information is vital.\n",
    "Although 3.1% of the data will be removed, this figure is not considered significant and it is also important to only include relevant data in the analysis.\n",
    "Therefore we will now remove those records from the DataFrame and print its resulting dimensions:"
   ]
  },
  {
   "cell_type": "code",
   "execution_count": 75,
   "metadata": {},
   "outputs": [
    {
     "name": "stdout",
     "output_type": "stream",
     "text": [
      "(85914, 16)\n"
     ]
    }
   ],
   "source": [
    "# Drop the accidents where the Severity is not known\n",
    "crashes.drop(crashes[crashes['SEVERITY'] == 'Not known'].index, inplace = True)\n",
    "print(crashes.shape)"
   ]
  },
  {
   "cell_type": "markdown",
   "metadata": {},
   "source": [
    "### Further Data Cleansing\n",
    "During further inspections of the data it was noticed that there is one record that contains false date information.\n",
    "This record will be removed below:"
   ]
  },
  {
   "cell_type": "code",
   "execution_count": 76,
   "metadata": {},
   "outputs": [],
   "source": [
    "# Drop the last value in the dataset because it has a blunder in the date (year = 0043)\n",
    "crashes = crashes.drop(crashes.index[-1])"
   ]
  },
  {
   "cell_type": "markdown",
   "metadata": {},
   "source": [
    "### Create Datetime Column\n",
    "To aid the creation of a time field in ArcGIS Pro, a new date column 'Acc_Date' will be added to the DataFrame that is a combination of 'CRASH_DATE' and 'CRASH_TIME'.\n",
    "The new column is then converted into a datetime column:"
   ]
  },
  {
   "cell_type": "code",
   "execution_count": 77,
   "metadata": {},
   "outputs": [],
   "source": [
    "crashes['Acc_Date'] = crashes['CRASH_DATE'] + ' ' + crashes['CRASH_TIME']\n",
    "crashes['Acc_Date'] = pd.to_datetime(crashes['Acc_Date'], format = '%d-%b-%Y %H:%M')\n"
   ]
  },
  {
   "cell_type": "markdown",
   "metadata": {},
   "source": [
    "### Export Data to be used in ArcGIS Pro\n",
    "The initial preprocessing has now been conducted.\n",
    "The DataFrame will now be exported as a CSV file to be used in the analysis."
   ]
  },
  {
   "cell_type": "code",
   "execution_count": 78,
   "metadata": {},
   "outputs": [],
   "source": [
    "crashes.to_csv(r'C:\\Users\\jjrattle\\Downloads\\ArcGIS Pro Analysis 13092023\\Preprocessing\\Preprocessing\\Crash_Data_Cleaned.csv')"
   ]
  },
  {
   "cell_type": "markdown",
   "metadata": {},
   "source": [
    "### Preprocessing stage now complete\n",
    "The preprocessing has now been completed and the output CSV file can now be brought into ArcGIS Pro."
   ]
  },
  {
   "cell_type": "code",
   "execution_count": null,
   "metadata": {},
   "outputs": [],
   "source": []
  }
 ],
 "metadata": {
  "kernelspec": {
   "display_name": "ArcGISPro",
   "language": "Python",
   "name": "python3"
  },
  "language_info": {
   "file_extension": ".py",
   "name": "python",
   "version": "3"
  }
 },
 "nbformat": 4,
 "nbformat_minor": 2
}
